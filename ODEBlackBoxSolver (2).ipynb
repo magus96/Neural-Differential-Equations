{
  "nbformat": 4,
  "nbformat_minor": 0,
  "metadata": {
    "colab": {
      "name": "ODEBlackBoxSolver.ipynb",
      "version": "0.3.2",
      "provenance": []
    },
    "kernelspec": {
      "name": "python3",
      "display_name": "Python 3"
    }
  },
  "cells": [
    {
      "metadata": {
        "id": "MfLXoqSBj7zw",
        "colab_type": "code",
        "colab": {}
      },
      "cell_type": "code",
      "source": [
        "import numpy as np\n",
        "import matplotlib.pyplot as plt\n",
        "import matplotlib\n",
        "%matplotlib inline"
      ],
      "execution_count": 0,
      "outputs": []
    },
    {
      "metadata": {
        "id": "xsKxDb9ykHen",
        "colab_type": "text"
      },
      "cell_type": "markdown",
      "source": [
        "\n",
        "\n",
        "```\n",
        "Defining exponential growth equation\n",
        "\n",
        "```\n",
        "\n"
      ]
    },
    {
      "metadata": {
        "id": "Nj0d5Sw4kNSf",
        "colab_type": "code",
        "outputId": "a773040b-54a5-4a0a-d470-5feb9b0eb606",
        "colab": {
          "base_uri": "https://localhost:8080/",
          "height": 297
        }
      },
      "cell_type": "code",
      "source": [
        "t=np.linspace(0,1,100)\n",
        "λ=5\n",
        "f= lambda t: np.exp(λ*t)\n",
        "plt.plot(t,f(t))\n",
        "plt.xlabel('t')\n",
        "plt.ylabel('f(t)')"
      ],
      "execution_count": 2,
      "outputs": [
        {
          "output_type": "execute_result",
          "data": {
            "text/plain": [
              "Text(0, 0.5, 'f(t)')"
            ]
          },
          "metadata": {
            "tags": []
          },
          "execution_count": 2
        },
        {
          "output_type": "display_data",
          "data": {
            "image/png": "[encoded data removed]",
            "text/plain": [
              "<Figure size 432x288 with 1 Axes>"
            ]
          },
          "metadata": {
            "tags": []
          }
        }
      ]
    },
    {
      "metadata": {
        "id": "O5v6xM7dkXcs",
        "colab_type": "text"
      },
      "cell_type": "markdown",
      "source": [
        "Defining step functions for methods and gradient function"
      ]
    },
    {
      "metadata": {
        "id": "zp5kdMaCkQb2",
        "colab_type": "code",
        "colab": {}
      },
      "cell_type": "code",
      "source": [
        "def grad_fn(tk,hk):\n",
        "    return λ*hk\n",
        "\n",
        "def euler_step_fn(dt,tk,hk,fun):\n",
        "    return hk+dt*fun(tk,hk)\n",
        "\n",
        "def mid_pt_step(δt,tk,hk,fun):\n",
        "    k1=fun(tk,hk)\n",
        "    k2=fun(tk+δt,hk+δt*k1)\n",
        "    return hk + δt*(k1+k2)/2\n",
        "  \n",
        "def Runge_kutta_step(δt,tk,hk,fun):\n",
        "    k1=fun(tk,hk)\n",
        "    k2=fun(tk+δt/2,hk+ δt*k1/2)\n",
        "    k3=fun(tk+δt/2,hk+ δt*k2/2)\n",
        "    k4=fun(tk+δt,hk+δt*k3)\n",
        "    return hk+ (1.0/6.0)*δt*(k1+2*k2+2*k3+k4)  "
      ],
      "execution_count": 0,
      "outputs": []
    },
    {
      "metadata": {
        "id": "tD0EWs8Wksin",
        "colab_type": "text"
      },
      "cell_type": "markdown",
      "source": [
        "Defining BlackBox ODE solver"
      ]
    },
    {
      "metadata": {
        "id": "wI4ZSZBwkyCv",
        "colab_type": "code",
        "colab": {}
      },
      "cell_type": "code",
      "source": [
        "def odeint(func,y0,t,solver):\n",
        "    δts=t[1:]-t[:-1]\n",
        "    tk=t[0]\n",
        "    fk=y0\n",
        "    solp=[(tk,fk)]\n",
        "    for δt in δts:\n",
        "        fk=solver(δt,tk,fk,func)\n",
        "        tk=tk+δt\n",
        "        solp.append((tk,fk))\n",
        "    return solp"
      ],
      "execution_count": 0,
      "outputs": []
    },
    {
      "metadata": {
        "id": "MC3F_VcDk2VO",
        "colab_type": "text"
      },
      "cell_type": "markdown",
      "source": [
        "Solving using Euler's method,Mid point method and Runge Kutta's Fourth Order method"
      ]
    },
    {
      "metadata": {
        "id": "JseHwThCk_3T",
        "colab_type": "code",
        "colab": {}
      },
      "cell_type": "code",
      "source": [
        "tp=np.linspace(0,1,15)\n",
        "sol_euler=odeint(grad_fn,1.0,tp,euler_step_fn)\n",
        "sol_midpt=odeint(grad_fn,1.0,tp,mid_pt_step)\n",
        "sol_rk4=odeint(grad_fn,1.0,tp,Runge_kutta_step)"
      ],
      "execution_count": 0,
      "outputs": []
    },
    {
      "metadata": {
        "id": "EpX1zucIlEgS",
        "colab_type": "code",
        "outputId": "d82f8e00-4970-4909-efe8-fee7480ca734",
        "colab": {
          "base_uri": "https://localhost:8080/",
          "height": 297
        }
      },
      "cell_type": "code",
      "source": [
        "plt.plot(*np.array(sol_euler).T,'-.',label='euler')\n",
        "plt.plot(*np.array(sol_midpt).T,'-.',label='Mid point')\n",
        "plt.plot(*np.array(sol_rk4).T,'-.',label='RungeKutta')\n",
        "plt.plot(t,f(t),label='exact')\n",
        "plt.xlabel('t')\n",
        "plt.ylabel('f(t)')\n",
        "plt.legend()"
      ],
      "execution_count": 6,
      "outputs": [
        {
          "output_type": "execute_result",
          "data": {
            "text/plain": [
              "<matplotlib.legend.Legend at 0x7fb3f7bb1390>"
            ]
          },
          "metadata": {
            "tags": []
          },
          "execution_count": 6
        },
        {
          "output_type": "display_data",
          "data": {
            "image/png": "[encoded data removed]",
            "text/plain": [
              "<Figure size 432x288 with 1 Axes>"
            ]
          },
          "metadata": {
            "tags": []
          }
        }
      ]
    },
    {
      "metadata": {
        "id": "T4oFey_YdQlK",
        "colab_type": "text"
      },
      "cell_type": "markdown",
      "source": [
        "Integration with neural network"
      ]
    },
    {
      "metadata": {
        "id": "eqIP6nmxdU93",
        "colab_type": "code",
        "colab": {}
      },
      "cell_type": "code",
      "source": [
        "import tensorflow as tf\n",
        "from tensorflow.keras.layers import Dense\n",
        "tf.enable_eager_execution()\n",
        "keras=tf.keras\n"
      ],
      "execution_count": 0,
      "outputs": []
    },
    {
      "metadata": {
        "id": "8TWL_CZHkqgT",
        "colab_type": "code",
        "colab": {}
      },
      "cell_type": "code",
      "source": [
        "def grad_fn(tk,hk):\n",
        "    return λ*hk\n",
        "\n",
        "def euler_step_fnk(dt,tk,hk,fun):\n",
        "    return hk+dt*fun([tk,hk])\n",
        "\n",
        "def mid_pt_stepk(δt,tk,hk,fun):\n",
        "    k1=fun([tk,hk])\n",
        "    k2=fun([tk+δt,hk+δt*k1])\n",
        "    return hk + δt*(k1+k2)/2\n",
        "  \n",
        "def Runge_kutta_stepk(δt,tk,hk,fun):\n",
        "    k1=fun([tk,hk])\n",
        "    k2=fun([tk+δt/2,hk+ δt*k1/2])\n",
        "    k3=fun([tk+δt/2,hk+ δt*k2/2])\n",
        "    k4=fun([tk+δt,hk+δt*k3])\n",
        "    return hk+ (1.0/6.0)*δt*(k1+2*k2+2*k3+k4)  "
      ],
      "execution_count": 0,
      "outputs": []
    },
    {
      "metadata": {
        "id": "9be2FdiFdf7n",
        "colab_type": "code",
        "colab": {}
      },
      "cell_type": "code",
      "source": [
        "class Module(keras.Model):\n",
        "    def __init__(self, nf):\n",
        "        super(Module, self).__init__()        \n",
        "        self.dense_1 = Dense(nf, activation='tanh')\n",
        "        self.dense_2 = Dense(nf, activation='tanh')\n",
        "\n",
        "    def call(self, inputs, **kwargs):\n",
        "        t,x = inputs\n",
        "        h = self.dense_1(x)\n",
        "        return self.dense_2(h) - 0.25 * x"
      ],
      "execution_count": 0,
      "outputs": []
    },
    {
      "metadata": {
        "id": "HLIH-zsed3Y7",
        "colab_type": "code",
        "colab": {}
      },
      "cell_type": "code",
      "source": [
        "model = Module(2)"
      ],
      "execution_count": 0,
      "outputs": []
    },
    {
      "metadata": {
        "id": "kdQn1LyQd5ww",
        "colab_type": "code",
        "colab": {}
      },
      "cell_type": "code",
      "source": [
        "t_grid = np.linspace(0, 500., 2000)\n",
        "h0 = tf.to_float([[1.0, -1.0]])\n",
        "model = Module(2)\n",
        "hist = odeint(model, h0, t_grid, Runge_kutta_stepk)"
      ],
      "execution_count": 0,
      "outputs": []
    },
    {
      "metadata": {
        "id": "xTMDtn3DefmX",
        "colab_type": "code",
        "colab": {}
      },
      "cell_type": "code",
      "source": [
        "\n",
        "h_hist = np.array([h.numpy()[0, :] for t, h in hist])"
      ],
      "execution_count": 0,
      "outputs": []
    },
    {
      "metadata": {
        "id": "VRtM9dRsemjy",
        "colab_type": "code",
        "colab": {
          "base_uri": "https://localhost:8080/",
          "height": 297
        },
        "outputId": "6d38d838-a09c-485a-8692-63ab6d569a15"
      },
      "cell_type": "code",
      "source": [
        "\n",
        "plt.plot(t_grid, h_hist[:, 0], label=\"h[t, 0]\", lw=2)\n",
        "plt.plot(t_grid, h_hist[:, 1], label=\"h[t, 1]\", lw=2)\n",
        "plt.xlabel(\"time\")\n",
        "plt.legend()"
      ],
      "execution_count": 57,
      "outputs": [
        {
          "output_type": "execute_result",
          "data": {
            "text/plain": [
              "<matplotlib.legend.Legend at 0x7fb3e1b43240>"
            ]
          },
          "metadata": {
            "tags": []
          },
          "execution_count": 57
        },
        {
          "output_type": "display_data",
          "data": {
            "image/png": "[encoded data removed]",
            "text/plain": [
              "<Figure size 432x288 with 1 Axes>"
            ]
          },
          "metadata": {
            "tags": []
          }
        }
      ]
    },
    {
      "metadata": {
        "id": "UVdo2UsBerod",
        "colab_type": "code",
        "colab": {}
      },
      "cell_type": "code",
      "source": [
        ""
      ],
      "execution_count": 0,
      "outputs": []
    }
  ]
}